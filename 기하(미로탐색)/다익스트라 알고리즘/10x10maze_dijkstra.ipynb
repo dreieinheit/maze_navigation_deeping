{
 "cells": [
  {
   "cell_type": "code",
   "execution_count": 1,
   "metadata": {},
   "outputs": [],
   "source": [
    "import numpy as np\n",
    "import matplotlib.pyplot as plt\n",
    "from collections import deque\n",
    "\n",
    "# 입력 자동화\n",
    "inputs = [\n",
    "    {\n",
    "        \"n_m\": [10, 10],\n",
    "        \"gh\": [\n",
    "            [1,0,1,1,1,0,1,1,1,1],\n",
    "            [1,1,1,0,0,1,1,1,0,1],\n",
    "            [0,0,1,0,1,1,0,0,1,1],\n",
    "            [1,1,1,0,1,0,0,1,1,0],\n",
    "            [1,1,0,0,1,0,1,1,0,0],\n",
    "            [0,1,1,1,1,1,0,1,1,0],\n",
    "            [0,1,0,0,0,1,0,0,1,1],\n",
    "            [0,1,1,1,0,1,0,1,1,1],\n",
    "            [0,1,0,1,1,1,0,1,0,0],\n",
    "            [0,1,1,1,0,0,0,1,1,1]\n",
    "        ]\n",
    "    }\n",
    "]\n",
    "\n",
    "# 상하좌우 이동 표시\n",
    "dx = [1, -1, 0, 0]\n",
    "dy = [0, 0, 1, -1]"
   ]
  },
  {
   "cell_type": "code",
   "execution_count": 2,
   "metadata": {},
   "outputs": [],
   "source": [
    "import heapq\n",
    "\n",
    "def dijkstra(gh, start, end):\n",
    "    n, m = len(gh), len(gh[0])\n",
    "    distances = [[float('inf')] * m for _ in range(n)]\n",
    "    distances[start[0]][start[1]] = 1\n",
    "    queue = [(1, start)]\n",
    "    prev = [[None] * m for _ in range(n)]  # 이전 노드를 저장하는 2차원 배열\n",
    "\n",
    "    dx = [-1, 1, 0, 0]\n",
    "    dy = [0, 0, -1, 1]\n",
    "\n",
    "    while queue:\n",
    "        current_distance, (x, y) = heapq.heappop(queue)\n",
    "\n",
    "        if (x, y) == end:\n",
    "            path = []\n",
    "            while end is not None:\n",
    "                path.append(end)\n",
    "                end = prev[end[0]][end[1]]\n",
    "            path.reverse()\n",
    "            return current_distance, path\n",
    "\n",
    "        for i in range(4):\n",
    "            nx, ny = x + dx[i], y + dy[i]\n",
    "\n",
    "            if 0 <= nx < n and 0 <= ny < m and gh[nx][ny] == 1:\n",
    "                next_distance = current_distance + 1\n",
    "\n",
    "                if next_distance < distances[nx][ny]:\n",
    "                    distances[nx][ny] = next_distance\n",
    "                    prev[nx][ny] = (x, y)\n",
    "                    heapq.heappush(queue, (next_distance, (nx, ny)))\n",
    "\n",
    "    return -1, []  # 경로가 없는 경우"
   ]
  },
  {
   "cell_type": "code",
   "execution_count": 3,
   "metadata": {},
   "outputs": [],
   "source": [
    "def plot_path(maze, path, title, ax=None):\n",
    "    if ax is None:\n",
    "        ax = plt.gca()\n",
    "    ax.set_title(title)\n",
    "    ax.imshow(maze, cmap='Greys', interpolation='none')\n",
    "    xs, ys = zip(*path)  # 경로의 x, y 좌표를 분리\n",
    "    ax.plot(ys, xs, 'bo-')  # 경로를 파란색 선으로 표시"
   ]
  },
  {
   "cell_type": "code",
   "execution_count": 4,
   "metadata": {},
   "outputs": [
    {
     "data": {
      "image/png": "[encoded data removed]",
      "text/plain": [
       "<Figure size 640x480 with 1 Axes>"
      ]
     },
     "metadata": {},
     "output_type": "display_data"
    }
   ],
   "source": [
    "# 다익스트라 알고리즘 실행\n",
    "for input in inputs:\n",
    "    n, m = input[\"n_m\"]\n",
    "    gh = input[\"gh\"]\n",
    "    start = (0, 0)\n",
    "    end = (n-1, m-1)\n",
    "    _, path = dijkstra(gh, start, end)\n",
    "\n",
    "    # 경로 시각화\n",
    "    plot_path(np.array(gh), path, \"Dijkstra Path\")\n",
    "    plt.show()"
   ]
  }
 ],
 "metadata": {
  "kernelspec": {
   "display_name": "Python 3",
   "language": "python",
   "name": "python3"
  },
  "language_info": {
   "codemirror_mode": {
    "name": "ipython",
    "version": 3
   },
   "file_extension": ".py",
   "mimetype": "text/x-python",
   "name": "python",
   "nbconvert_exporter": "python",
   "pygments_lexer": "ipython3",
   "version": "3.12.2"
  }
 },
 "nbformat": 4,
 "nbformat_minor": 2
}
