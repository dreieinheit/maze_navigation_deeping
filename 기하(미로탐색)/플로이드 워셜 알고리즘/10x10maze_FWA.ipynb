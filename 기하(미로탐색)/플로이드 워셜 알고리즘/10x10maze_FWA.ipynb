{
 "cells": [
  {
   "cell_type": "code",
   "execution_count": 1,
   "metadata": {},
   "outputs": [],
   "source": [
    "import numpy as np\n",
    "import matplotlib.pyplot as plt\n",
    "\n",
    "# 주어진 미로\n",
    "gh = [\n",
    "    [1,0,1,1,1,0,1,1,1,1],\n",
    "    [1,1,1,0,0,1,1,1,0,1],\n",
    "    [0,0,1,0,1,1,0,0,1,1],\n",
    "    [1,1,1,0,1,0,0,1,1,0],\n",
    "    [1,1,0,0,1,0,1,1,0,0],\n",
    "    [0,1,1,1,1,1,0,1,1,0],\n",
    "    [0,1,0,0,0,1,0,0,1,1],\n",
    "    [0,1,1,1,0,1,0,1,1,1],\n",
    "    [0,1,0,1,1,1,0,1,0,0],\n",
    "    [0,1,1,1,0,0,0,1,1,1]\n",
    "]"
   ]
  },
  {
   "cell_type": "code",
   "execution_count": 2,
   "metadata": {},
   "outputs": [],
   "source": [
    "# 미로의 크기\n",
    "n, m = len(gh), len(gh[0])\n",
    "\n",
    "# 거리와 방향을 저장할 2차원 리스트 초기화\n",
    "dist = [[float('inf')] * m for _ in range(n)]\n",
    "prev = [[None] * m for _ in range(n)]\n",
    "dist[0][0] = 0  # 시작점 거리를 0으로 설정"
   ]
  },
  {
   "cell_type": "code",
   "execution_count": 3,
   "metadata": {},
   "outputs": [],
   "source": [
    "# 플로이드 워셜 알고리즘 수행\n",
    "for k in range(n * m):\n",
    "    for i in range(n):\n",
    "        for j in range(m):\n",
    "            if gh[i][j] == 1:  # 해당 위치가 이동 가능한 경우\n",
    "                for dx, dy in [(1, 0), (-1, 0), (0, 1), (0, -1)]:\n",
    "                    nx, ny = i + dx, j + dy\n",
    "                    # 이동한 위치가 그래프 내부에 있고, 그 위치의 값이 1인 경우\n",
    "                    if 0 <= nx < n and 0 <= ny < m and gh[nx][ny] == 1:\n",
    "                        if dist[nx][ny] > dist[i][j] + 1:\n",
    "                            dist[nx][ny] = dist[i][j] + 1\n",
    "                            prev[nx][ny] = (i, j)  # 이전 위치 저장"
   ]
  },
  {
   "cell_type": "code",
   "execution_count": 4,
   "metadata": {},
   "outputs": [
    {
     "name": "stdout",
     "output_type": "stream",
     "text": [
      "최단거리: 36\n"
     ]
    }
   ],
   "source": [
    "# 최단거리 결과 출력\n",
    "if dist[n-1][m-1] == float('inf'):\n",
    "    print(\"inf\")\n",
    "else:\n",
    "    print(\"최단거리:\", dist[n-1][m-1])\n"
   ]
  },
  {
   "cell_type": "code",
   "execution_count": 5,
   "metadata": {},
   "outputs": [],
   "source": [
    "# 경로 추적\n",
    "path = []\n",
    "if dist[n-1][m-1] != float('inf'):\n",
    "    x, y = n-1, m-1\n",
    "    while (x, y) != (0, 0):\n",
    "        path.append((x, y))\n",
    "        x, y = prev[x][y]\n",
    "    path.append((0, 0))\n",
    "    path.reverse()\n"
   ]
  },
  {
   "cell_type": "code",
   "execution_count": 6,
   "metadata": {},
   "outputs": [
    {
     "data": {
      "image/png": "[encoded data removed]",
      "text/plain": [
       "<Figure size 640x480 with 1 Axes>"
      ]
     },
     "metadata": {},
     "output_type": "display_data"
    }
   ],
   "source": [
    "# 경로 시각화\n",
    "def plot_path(maze, path, title, ax=None):\n",
    "    if ax is None:\n",
    "        ax = plt.gca()\n",
    "    ax.set_title(title)\n",
    "    ax.imshow(maze, cmap='Greys', interpolation='none')\n",
    "    xs, ys = zip(*path)  # 경로의 x, y 좌표를 분리\n",
    "    ax.plot(ys, xs, 'bo-')  # 경로를 파란색 선으로 표시\n",
    "\n",
    "plot_path(np.array(gh), path, \"Floyd-Warshall Path\")\n",
    "plt.show()"
   ]
  }
 ],
 "metadata": {
  "kernelspec": {
   "display_name": "Python 3",
   "language": "python",
   "name": "python3"
  },
  "language_info": {
   "codemirror_mode": {
    "name": "ipython",
    "version": 3
   },
   "file_extension": ".py",
   "mimetype": "text/x-python",
   "name": "python",
   "nbconvert_exporter": "python",
   "pygments_lexer": "ipython3",
   "version": "3.12.2"
  }
 },
 "nbformat": 4,
 "nbformat_minor": 2
}
